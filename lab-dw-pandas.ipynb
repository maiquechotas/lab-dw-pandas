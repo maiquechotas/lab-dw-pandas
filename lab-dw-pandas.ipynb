{
 "cells": [
  {
   "cell_type": "markdown",
   "id": "25d7736c-ba17-4aff-b6bb-66eba20fbf4e",
   "metadata": {},
   "source": [
    "# Lab | Pandas"
   ]
  },
  {
   "cell_type": "markdown",
   "id": "d1973e9e-8be6-4039-b70e-d73ee0d94c99",
   "metadata": {},
   "source": [
    "In this lab, we will be working with the customer data from an insurance company, which can be found in the CSV file located at the following link: https://raw.githubusercontent.com/data-bootcamp-v4/data/main/file1.csv\n",
    "\n",
    "The data includes information such as customer ID, state, gender, education, income, and other variables that can be used to perform various analyses.\n",
    "\n",
    "Throughout the lab, we will be using the pandas library in Python to manipulate and analyze the data. Pandas is a powerful library that provides various data manipulation and analysis tools, including the ability to load and manipulate data from a variety of sources, including CSV files."
   ]
  },
  {
   "cell_type": "markdown",
   "id": "8045146f-f4f7-44d9-8cd9-130d6400c73a",
   "metadata": {},
   "source": [
    "### Data Description\n",
    "\n",
    "- Customer - Customer ID\n",
    "\n",
    "- ST - State where customers live\n",
    "\n",
    "- Gender - Gender of the customer\n",
    "\n",
    "- Education - Background education of customers \n",
    "\n",
    "- Customer Lifetime Value - Customer lifetime value(CLV) is the total revenue the client will derive from their entire relationship with a customer. In other words, is the predicted or calculated value of a customer over their entire duration as a policyholder with the insurance company. It is an estimation of the net profit that the insurance company expects to generate from a customer throughout their relationship with the company. Customer Lifetime Value takes into account factors such as the duration of the customer's policy, premium payments, claim history, renewal likelihood, and potential additional services or products the customer may purchase. It helps insurers assess the long-term profitability and value associated with retaining a particular customer.\n",
    "\n",
    "- Income - Customers income\n",
    "\n",
    "- Monthly Premium Auto - Amount of money the customer pays on a monthly basis as a premium for their auto insurance coverage. It represents the recurring cost that the insured person must pay to maintain their insurance policy and receive coverage for potential damages, accidents, or other covered events related to their vehicle.\n",
    "\n",
    "- Number of Open Complaints - Number of complaints the customer opened\n",
    "\n",
    "- Policy Type - There are three type of policies in car insurance (Corporate Auto, Personal Auto, and Special Auto)\n",
    "\n",
    "- Vehicle Class - Type of vehicle classes that customers have Two-Door Car, Four-Door Car SUV, Luxury SUV, Sports Car, and Luxury Car\n",
    "\n",
    "- Total Claim Amount - the sum of all claims made by the customer. It represents the total monetary value of all approved claims for incidents such as accidents, theft, vandalism, or other covered events.\n"
   ]
  },
  {
   "cell_type": "markdown",
   "id": "3a72419b-20fc-4905-817a-8c83abc59de6",
   "metadata": {},
   "source": [
    "External Resources: https://towardsdatascience.com/filtering-data-frames-in-pandas-b570b1f834b9"
   ]
  },
  {
   "cell_type": "markdown",
   "id": "8f8ece17-e919-4e23-96c0-c7c59778436a",
   "metadata": {},
   "source": [
    "## Challenge 1: Understanding the data\n",
    "\n",
    "In this challenge, you will use pandas to explore a given dataset. Your task is to gain a deep understanding of the data by analyzing its characteristics, dimensions, and statistical properties."
   ]
  },
  {
   "cell_type": "markdown",
   "id": "91437bd5-59a6-49c0-8150-ef0e6e6eb253",
   "metadata": {},
   "source": [
    "- Identify the dimensions of the dataset by determining the number of rows and columns it contains.\n",
    "- Determine the data types of each column and evaluate whether they are appropriate for the nature of the variable. You should also provide suggestions for fixing any incorrect data types.\n",
    "- Identify the number of unique values for each column and determine which columns appear to be categorical. You should also describe the unique values of each categorical column and the range of values for numerical columns, and give your insights.\n",
    "- Compute summary statistics such as mean, median, mode, standard deviation, and quartiles to understand the central tendency and distribution of the data for numerical columns. You should also provide your conclusions based on these summary statistics.\n",
    "- Compute summary statistics for categorical columns and providing your conclusions based on these statistics."
   ]
  },
  {
   "cell_type": "code",
   "execution_count": null,
   "id": "dd4e8cd8-a6f6-486c-a5c4-1745b0c035f4",
   "metadata": {},
   "outputs": [],
   "source": [
    "# Your code here\n",
    "\n",
    "#import pandas\n",
    "import pandas as pd\n",
    "\n",
    "#import the dataframe from the csv\n",
    "df_insurancedata = pd.read_csv('https://raw.githubusercontent.com/data-bootcamp-v4/data/main/file1.csv')\n",
    "df_insurancedata"
   ]
  },
  {
   "cell_type": "code",
   "execution_count": null,
   "id": "3c80a0b5",
   "metadata": {},
   "outputs": [],
   "source": [
    "#- Identify the dimensions of the dataset by determining the number of rows and columns it contains.\n",
    "df_insurancedata.shape"
   ]
  },
  {
   "cell_type": "code",
   "execution_count": null,
   "id": "43cd99bf",
   "metadata": {},
   "outputs": [],
   "source": [
    "# Determine the data types of each column and evaluate whether they are appropriate for the nature of the variable. \n",
    "# You should also provide suggestions for fixing any incorrect data types.\n",
    "\n",
    "print (df_insurancedata.info())\n",
    "print (df_insurancedata.dtypes)\n",
    "\n",
    "\n",
    "#the 2 variables that appears to be strange are: \n",
    "# 1. customer lifetime value, it should be a number\n",
    "# 2. number of open complaints, it should also be a number"
   ]
  },
  {
   "cell_type": "code",
   "execution_count": null,
   "id": "81779e6b",
   "metadata": {},
   "outputs": [],
   "source": [
    "#we could also examine using head and tail\n",
    "print (df_insurancedata.head(), \"\\n\")\n",
    "print (df_insurancedata.tail())\n",
    "\n",
    "#and we find out that the tails values are nan, strange"
   ]
  },
  {
   "cell_type": "code",
   "execution_count": null,
   "id": "da85ddb0",
   "metadata": {},
   "outputs": [],
   "source": [
    "#- Identify the number of unique values for each column and determine which columns appear to be categorical. \n",
    "\n",
    "df_insurancedata.nunique()\n",
    "\n",
    "# Categorial colums: state, gender, education, policy type, vehicle class"
   ]
  },
  {
   "cell_type": "code",
   "execution_count": null,
   "id": "bba3ec1c",
   "metadata": {},
   "outputs": [],
   "source": [
    "# You should also describe the unique values of each categorical column and the range of values for numerical columns, \n",
    "# and give your insights.\n",
    "\n",
    "categorical_columns = ['ST','GENDER','Education','Policy Type','Vehicle Class']\n",
    "\n",
    "for column in categorical_columns:\n",
    "    print(f\"Value Counts for {column}:\")\n",
    "    print(df_insurancedata[column].value_counts(dropna=False))  #dropna includes or not the nule items\n",
    "    print(\"\\n\")\n",
    "\n",
    "# St, Policy, vehicle class are fine\n",
    "# Gender errors: F and M are the same as female and male, also Femal is spelling mistake\n",
    "# Education: bachelor and bachelors may refer to the same category"
   ]
  },
  {
   "cell_type": "code",
   "execution_count": null,
   "id": "e918f5e4",
   "metadata": {},
   "outputs": [],
   "source": [
    "# Compute summary statistics such as mean, median, mode, standard deviation, \n",
    "# and quartiles to understand the central tendency and distribution of the data for numerical columns. \n",
    "# You should also provide your conclusions based on these summary statistics.\n",
    "\n",
    "df_insurancedata.describe()\n",
    "\n",
    "# "
   ]
  },
  {
   "cell_type": "code",
   "execution_count": null,
   "id": "a45d35f7",
   "metadata": {},
   "outputs": [],
   "source": [
    "# Compute summary statistics for categorical columns and providing your conclusions based on these statistics.\n",
    "\n",
    "result = df_insurancedata[categorical_columns].agg(['count', 'nunique',])\n",
    "print (result)\n",
    "\n",
    "modes = df_insurancedata[categorical_columns].mode().iloc[0]\n",
    "result.loc['mode'] = modes\n",
    "print(result)\n",
    "\n",
    "#df_insurancedata.isna().sum() option to count the nan\n",
    "\n",
    "# Conclusions:\n",
    "# All of them have the same count except Gender, that appears to have more nule/nan fields\n"
   ]
  },
  {
   "cell_type": "markdown",
   "id": "4a703890-63db-4944-b7ab-95a4f8185120",
   "metadata": {},
   "source": [
    "## Challenge 2: analyzing the data"
   ]
  },
  {
   "cell_type": "markdown",
   "id": "0776a403-c56a-452f-ac33-5fd4fdb06fc7",
   "metadata": {},
   "source": [
    "### Exercise 1"
   ]
  },
  {
   "cell_type": "markdown",
   "id": "eedbc484-da4d-4f9c-9343-e1d44311a87e",
   "metadata": {},
   "source": [
    "The marketing team wants to know the top 5 less common customer locations. Create a pandas Series object that contains the customer locations and their frequencies, and then retrieve the top 5 less common locations in ascending order."
   ]
  },
  {
   "cell_type": "code",
   "execution_count": 130,
   "id": "2dca5073-4520-4f42-9390-4b92733284ed",
   "metadata": {},
   "outputs": [
    {
     "name": "stdout",
     "output_type": "stream",
     "text": [
      "ST\n",
      "AZ             25\n",
      "WA             30\n",
      "Washington     81\n",
      "Nevada         98\n",
      "Cali          120\n",
      "Name: count, dtype: int64\n"
     ]
    }
   ],
   "source": [
    "# Your code here\n",
    "# Create a pandas Series with customer locations and their frequencies\n",
    "location_counts = df_insurancedata['ST'].value_counts()\n",
    "\n",
    "# Retrieve the top 5 less common locations in ascending order\n",
    "five_least_common = location_counts.nsmallest(5).sort_values(ascending=True)\n",
    "\n",
    "print(five_least_common)"
   ]
  },
  {
   "cell_type": "markdown",
   "id": "0ce80f43-4afa-43c7-a78a-c917444da4e0",
   "metadata": {},
   "source": [
    "### Exercise 2\n",
    "\n",
    "The sales team wants to know the total number of policies sold for each type of policy. Create a pandas Series object that contains the policy types and their total number of policies sold, and then retrieve the policy type with the highest number of policies sold."
   ]
  },
  {
   "cell_type": "markdown",
   "id": "a9f13997-1555-4f98-aca6-970fda1d2c3f",
   "metadata": {},
   "source": [
    "*Hint:*\n",
    "- *Using value_counts() method simplifies this analysis.*\n",
    "- *Futhermore, there is a method that returns the index of the maximum value in a column or row.*\n"
   ]
  },
  {
   "cell_type": "code",
   "execution_count": 139,
   "id": "bcfad6c1-9af2-4b0b-9aa9-0dc5c17473c0",
   "metadata": {},
   "outputs": [
    {
     "name": "stdout",
     "output_type": "stream",
     "text": [
      "Policy Type\n",
      "Personal Auto     780\n",
      "Corporate Auto    234\n",
      "Special Auto       57\n",
      "Name: count, dtype: int64\n",
      "The most common Policy Type is: Personal Auto\n"
     ]
    }
   ],
   "source": [
    "# Your code here\n",
    "# Create a pandas Series with the 'Policy Type' column and count the occurrences of each policy type\n",
    "typeofpolicy_counts = df_insurancedata['Policy Type'].value_counts()\n",
    "print(typeofpolicy_counts)\n",
    "\n",
    "# Retrieve the most common Policy Type using idxmax(), which returns the index of the max value\n",
    "most_common_policy = typeofpolicy_counts.idxmax()\n",
    "print(f\"The most common Policy Type is: {most_common_policy}\")"
   ]
  },
  {
   "cell_type": "markdown",
   "id": "0b863fd3-bf91-4d5d-86eb-be29ed9f5b70",
   "metadata": {},
   "source": [
    "### Exercise 3\n",
    "\n",
    "The sales team wants to know if customers with Personal Auto have a lower income than those with Corporate Auto. How does the average income compare between the two policy types?"
   ]
  },
  {
   "cell_type": "markdown",
   "id": "b1386d75-2810-4aa1-93e0-9485aa12d552",
   "metadata": {},
   "source": [
    "- Use *loc* to create two dataframes: one containing only Personal Auto policies and one containing only Corporate Auto policies.\n",
    "- Calculate the average income for each policy.\n",
    "- Print the results."
   ]
  },
  {
   "cell_type": "code",
   "execution_count": 142,
   "id": "0c0563cf-6f8b-463d-a321-651a972f82e5",
   "metadata": {},
   "outputs": [
    {
     "name": "stdout",
     "output_type": "stream",
     "text": [
      "Average income for Personal Auto: 38180.69871794872\n",
      "Average income for Corporate Auto: 41390.31196581197\n"
     ]
    }
   ],
   "source": [
    "# Your code here\n",
    "\n",
    "# Step 1: Filter the dataframe for 'Personal Auto' and 'Corporate Auto' policies\n",
    "personal_auto = df_insurancedata.loc[df_insurancedata['Policy Type'] == 'Personal Auto']\n",
    "corporate_auto = df_insurancedata.loc[df_insurancedata['Policy Type'] == 'Corporate Auto']\n",
    "\n",
    "# Step 2: Calculate the average income for each policy type\n",
    "average_income_personal = personal_auto['Income'].mean()\n",
    "average_income_corporate = corporate_auto['Income'].mean()\n",
    "\n",
    "# Step 3: Print the results\n",
    "print(f\"Average income for Personal Auto: {average_income_personal}\")\n",
    "print(f\"Average income for Corporate Auto: {average_income_corporate}\")\n"
   ]
  },
  {
   "cell_type": "markdown",
   "id": "80b16c27-f4a5-4727-a229-1f88671cf4e2",
   "metadata": {},
   "source": [
    "### Bonus: Exercise 4\n"
   ]
  },
  {
   "cell_type": "markdown",
   "id": "ac584986-299b-475f-ac2e-928c16c3f512",
   "metadata": {},
   "source": [
    "Your goal is to identify customers with a high policy claim amount.\n",
    "\n",
    "Instructions:\n",
    "\n",
    "- Review again the statistics for total claim amount to gain an understanding of the data.\n",
    "- To identify potential areas for improving customer retention and profitability, we want to focus on customers with a high policy claim amount. Consider customers with a high policy claim amount to be those in the top 25% of the total claim amount. Create a pandas DataFrame object that contains information about customers with a policy claim amount greater than the 75th percentile.\n",
    "- Use DataFrame methods to calculate summary statistics about the high policy claim amount data. "
   ]
  },
  {
   "cell_type": "markdown",
   "id": "4e3af5f1-6023-4b05-9c01-d05392daa650",
   "metadata": {},
   "source": [
    "*Note: When analyzing data, we often want to focus on certain groups of values to gain insights. Percentiles are a useful tool to help us define these groups. A percentile is a measure that tells us what percentage of values in a dataset are below a certain value. For example, the 75th percentile represents the value below which 75% of the data falls. Similarly, the 25th percentile represents the value below which 25% of the data falls. When we talk about the top 25%, we are referring to the values that fall above the 75th percentile, which represent the top quarter of the data. On the other hand, when we talk about the bottom 25%, we are referring to the values that fall below the 25th percentile, which represent the bottom quarter of the data. By focusing on these groups, we can identify patterns and trends that may be useful for making decisions and taking action.*\n",
    "\n",
    "*Hint: look for a method that gives you the percentile or quantile 0.75 and 0.25 for a Pandas Series.*"
   ]
  },
  {
   "cell_type": "markdown",
   "id": "2d234634-50bd-41e0-88f7-d5ba684455d1",
   "metadata": {},
   "source": [
    "*Hint 2: check `Boolean selection according to the values of a single column` in https://towardsdatascience.com/filtering-data-frames-in-pandas-b570b1f834b9*"
   ]
  },
  {
   "cell_type": "code",
   "execution_count": 143,
   "id": "b731bca6-a760-4860-a27b-a33efa712ce0",
   "metadata": {},
   "outputs": [
    {
     "name": "stdout",
     "output_type": "stream",
     "text": [
      "count    1071.000000\n",
      "mean      404.986909\n",
      "std       293.027260\n",
      "min         0.382107\n",
      "25%       202.157702\n",
      "50%       354.729129\n",
      "75%       532.800000\n",
      "max      2893.239678\n",
      "Name: Total Claim Amount, dtype: float64\n",
      "75th Percentile: 532.8\n",
      "             Income  Monthly Premium Auto  Total Claim Amount\n",
      "count    264.000000            264.000000          264.000000\n",
      "mean   23677.344697            165.193182          782.228263\n",
      "std    27013.483721            623.930992          292.751640\n",
      "min        0.000000             63.000000          537.600000\n",
      "25%        0.000000             99.000000          606.521741\n",
      "50%    18807.000000            114.000000          679.597985\n",
      "75%    42423.750000            133.250000          851.400000\n",
      "max    99316.000000          10202.000000         2893.239678\n"
     ]
    }
   ],
   "source": [
    "# Your code here\n",
    "\n",
    "# Step 1: Review statistics for 'Total Claim Amount'\n",
    "total_claim_stats = df_insurancedata['Total Claim Amount'].describe()\n",
    "print(total_claim_stats)\n",
    "\n",
    "# Step 2: Calculate the 75th percentile (top 25%)\n",
    "percentile_75 = df_insurancedata['Total Claim Amount'].quantile(0.75)\n",
    "print(f\"75th Percentile: {percentile_75}\")\n",
    "\n",
    "# Step 3: Filter customers with 'Total Claim Amount' greater than 75th percentile\n",
    "high_claim_customers = df_insurancedata[df_insurancedata['Total Claim Amount'] > percentile_75]\n",
    "\n",
    "# Step 4: Calculate summary statistics for high policy claim customers\n",
    "high_claim_stats = high_claim_customers.describe()\n",
    "print(high_claim_stats)\n"
   ]
  }
 ],
 "metadata": {
  "kernelspec": {
   "display_name": "Python 3",
   "language": "python",
   "name": "python3"
  },
  "language_info": {
   "codemirror_mode": {
    "name": "ipython",
    "version": 3
   },
   "file_extension": ".py",
   "mimetype": "text/x-python",
   "name": "python",
   "nbconvert_exporter": "python",
   "pygments_lexer": "ipython3",
   "version": "3.12.6"
  }
 },
 "nbformat": 4,
 "nbformat_minor": 5
}
